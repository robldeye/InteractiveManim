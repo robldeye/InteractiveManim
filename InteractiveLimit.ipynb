{
 "cells": [
  {
   "cell_type": "markdown",
   "id": "22bfe7a5",
   "metadata": {},
   "source": [
    "This notebook contains an interactive visualization of limits of a function. Use the slider to select an $a$ value, and the manimation will show one-sided limits of $f$ as $x$ approaches $a$."
   ]
  },
  {
   "cell_type": "code",
   "execution_count": null,
   "id": "38a7072f",
   "metadata": {},
   "outputs": [],
   "source": [
    "# <-- Run to select f\n",
    "import numpy as np\n",
    "import ipywidgets as widgets\n",
    "from sympy import symbols, sin, cos, exp, log, Piecewise, latex\n",
    "from IPython.display import display, Math\n",
    "# DO NOT ADJUST ABOVE\n",
    "\n",
    "x = symbols('x')\n",
    "function_map = {\n",
    "    \"sin(x)\": sin(x),\n",
    "    \"cos(x)\": cos(x),\n",
    "    \"eˣ\": exp(x),\n",
    "    \"3-x²\": 3-x**2,\n",
    "    \"Piecewise\": Piecewise(\n",
    "        (x**2, x <= 0),\n",
    "        (0, (x > 0) & (x <= 2)),\n",
    "        (2-x, x > 2)\n",
    "    )\n",
    "}\n",
    "latex_map = {\n",
    "    \"sin(x)\": r\"\\sin(x)\",\n",
    "    \"cos(x)\": r\"\\cos(x)\",\n",
    "    \"eˣ\": r\"e^x\",\n",
    "    \"3-x²\": r\"3 - x^2\",\n",
    "    \"Piecewise\": r\"\"\"\n",
    "        \\begin{cases}\n",
    "        x^2 & \\text{for } x \\leq 0 \\\\\n",
    "        0 & \\text{for } 0 < x \\leq 2 \\\\\n",
    "        2-x & \\text{for } x > 2\n",
    "        \\end{cases}\n",
    "    \"\"\"\n",
    "}\n",
    "f_toggle = widgets.ToggleButtons(\n",
    "    options=list(function_map.keys()),\n",
    "    description='Select the desired function',\n",
    "    button_style='info',\n",
    ")\n",
    "output = widgets.Output()\n",
    "\n",
    "def update_display(change):\n",
    "    with output:\n",
    "        output.clear_output()\n",
    "        f = function_map[f_toggle.value]\n",
    "        f_tex = latex_map[f_toggle.value]\n",
    "        display(Math(f\"f(x) = {f_tex}\"))\n",
    "\n",
    "f_toggle.observe(update_display, names='value')\n",
    "display(f_toggle, output)\n",
    "update_display({'new': f_toggle.value})\n"
   ]
  },
  {
   "cell_type": "markdown",
   "id": "2fb4c047",
   "metadata": {},
   "source": [
    "Next, select the $x$-value $a$ for which you want to see limiting behaviour."
   ]
  },
  {
   "cell_type": "code",
   "execution_count": null,
   "id": "4b99795a",
   "metadata": {},
   "outputs": [],
   "source": [
    "# <-- Run to select a\n",
    "import numpy as np\n",
    "from sympy import integrate, init_printing\n",
    "from ipywidgets import interact, IntSlider\n",
    "from IPython.display import display, Math\n",
    "init_printing()\n",
    "# DO NOT ADJUST ABOVE\n",
    "\n",
    "a_slider = IntSlider(\n",
    "    min=-3, max=3, step = 1, value = 0,\n",
    "    description='a =',\n",
    "    layout={'width': '400px'}\n",
    ")\n",
    "display(Math(r\"\\text{Move the slider to select} \\,\\, a \\in [-3, 3].\"))\n",
    "@interact(a=a_slider)\n",
    "def evaluate_integral(a):\n",
    "    f = function_map[f_toggle.value]\n",
    "    result = integrate(f, (x, 0, a)).evalf()\n",
    "    # display(Math(rf\"\\int_0^{{{b:.1f}}} {latex(f)} \\, dx = {result:.2f}\"))"
   ]
  },
  {
   "cell_type": "markdown",
   "id": "cc14bb2e",
   "metadata": {},
   "source": [
    "Run the block below to manimate!"
   ]
  },
  {
   "cell_type": "code",
   "execution_count": null,
   "id": "cc55ca67",
   "metadata": {},
   "outputs": [],
   "source": [
    "# <-- Run to manimate! (takes up to 20s)\n",
    "from manim import *\n",
    "from manim_util import Limit\n",
    "from sympy import lambdify\n",
    "from scene_util import show_scene\n",
    "\n",
    "config.pixel_height = 720\n",
    "config.pixel_width = 1280\n",
    "config.frame_rate = 30\n",
    "config.verbosity = \"WARNING\"\n",
    "\n",
    "a = a_slider.value\n",
    "f = function_map[f_toggle.value]\n",
    "f_tex = latex_map[f_toggle.value]\n",
    "f_expr = f\n",
    "f_usable = lambdify(x, f, modules=\"sympy\")\n",
    "show_scene(Limit, f=f_usable, f_expr=f_expr, f_tex=f_tex, a=a)"
   ]
  }
 ],
 "metadata": {
  "kernelspec": {
   "display_name": "Python 3",
   "language": "python",
   "name": "python3"
  },
  "language_info": {
   "codemirror_mode": {
    "name": "ipython",
    "version": 3
   },
   "file_extension": ".py",
   "mimetype": "text/x-python",
   "name": "python",
   "nbconvert_exporter": "python",
   "pygments_lexer": "ipython3",
   "version": "3.13.6"
  }
 },
 "nbformat": 4,
 "nbformat_minor": 5
}
