{
 "cells": [
  {
   "cell_type": "markdown",
   "id": "ff868b47",
   "metadata": {},
   "source": [
    "Date: 07/30/2025\n",
    "Author: Robert DeYeso III\n",
    "<!-- Keywords: Calculus I, Integral>"
   ]
  },
  {
   "cell_type": "markdown",
   "id": "f8bf033f",
   "metadata": {},
   "source": [
    "This is a Jupyter Notebook demoing an interactive manimation visualizing a definite integral."
   ]
  },
  {
   "cell_type": "markdown",
   "id": "c854b85a",
   "metadata": {},
   "source": [
    "First, run the block below and select the desired function $f$."
   ]
  },
  {
   "cell_type": "code",
   "execution_count": null,
   "id": "822b80a4",
   "metadata": {},
   "outputs": [],
   "source": [
    "import numpy as np\n",
    "import ipywidgets as widgets\n",
    "from sympy import symbols, sin, cos, exp, latex\n",
    "from IPython.display import display, Math\n",
    "# DO NOT ADJUST ABOVE\n",
    "\n",
    "x = symbols('x') # Allows f to act as a sympy function\n",
    "function_map = {\n",
    "    \"sin(x)\": sin(x),\n",
    "    \"cos(x)\": cos(x),\n",
    "    \"e^x\": exp(x),\n",
    "}\n",
    "f_toggle = widgets.ToggleButtons(\n",
    "    options=list(function_map.keys()),\n",
    "    description='Select the desired function',\n",
    "    button_style='info',\n",
    ")\n",
    "output = widgets.Output()\n",
    "\n",
    "def update_display(change):\n",
    "    with output:\n",
    "        output.clear_output()\n",
    "        f = function_map[f_toggle.value]\n",
    "        display(Math(f\"f(x) = {latex(f)}\"))\n",
    "\n",
    "f_toggle.observe(update_display, names='value')\n",
    "display(f_toggle, output)\n",
    "update_display({'new': f_toggle.value})\n"
   ]
  },
  {
   "cell_type": "markdown",
   "id": "6eb5ec7f",
   "metadata": {},
   "source": [
    "Now let's evaluate $\\int_0^b f(x) \\, dx$. Run the block below and use the slider to select $b$ and see the value of $\\int_0^b f(x) \\, dx$. "
   ]
  },
  {
   "cell_type": "code",
   "execution_count": null,
   "id": "8f1b954a",
   "metadata": {},
   "outputs": [],
   "source": [
    "import numpy as np\n",
    "from sympy import integrate, init_printing\n",
    "from ipywidgets import interact, FloatSlider\n",
    "from IPython.display import display, Math\n",
    "init_printing()\n",
    "# DO NOT ADJUST ABOVE\n",
    "\n",
    "b_slider = FloatSlider(\n",
    "    min=0, max=10, step = 0.1, value = 3,\n",
    "    description='b =',\n",
    "    layout={'width': '300px'}\n",
    ")\n",
    "\n",
    "# Interactive slider for upper bound a\n",
    "display(Math(r\"\\text{Move the slider to select} \\,\\, b \\in [0, 2\\pi].\"))\n",
    "@interact(b=b_slider)\n",
    "def evaluate_integral(b):\n",
    "    f = function_map[f_toggle.value]\n",
    "    result = integrate(f, (x, 0, b)).evalf()\n",
    "    display(Math(rf\"\\int_0^{{{b:.1f}}} {latex(f)} \\, dx = {result:.2f}\"))"
   ]
  },
  {
   "cell_type": "markdown",
   "id": "0b2bcec0",
   "metadata": {},
   "source": [
    "Next is the block that will render a brief Manimation of the above integral for this choice of $b$."
   ]
  },
  {
   "cell_type": "code",
   "execution_count": null,
   "id": "e2cb6af1",
   "metadata": {},
   "outputs": [],
   "source": [
    "# RUN, BUT DO NOT TOUCH\n",
    "from manim import *\n",
    "from manim_util import Integral\n",
    "from sympy import lambdify\n",
    "from scene_util import show_scene\n",
    "\n",
    "config.pixel_height = 540\n",
    "config.pixel_width = 960\n",
    "config.frame_rate = 30\n",
    "config.verbosity = \"WARNING\"\n",
    "\n",
    "b = b_slider.value\n",
    "f = function_map[f_toggle.value]\n",
    "f_expr = f\n",
    "f_usable = lambdify(x, f, modules=[\"numpy\"])\n",
    "show_scene(Integral, f=f_usable, f_expr=f_expr, b=b)"
   ]
  }
 ],
 "metadata": {
  "kernelspec": {
   "display_name": "Python 3",
   "language": "python",
   "name": "python3"
  },
  "language_info": {
   "codemirror_mode": {
    "name": "ipython",
    "version": 3
   },
   "file_extension": ".py",
   "mimetype": "text/x-python",
   "name": "python",
   "nbconvert_exporter": "python",
   "pygments_lexer": "ipython3",
   "version": "3.12.8"
  }
 },
 "nbformat": 4,
 "nbformat_minor": 5
}
