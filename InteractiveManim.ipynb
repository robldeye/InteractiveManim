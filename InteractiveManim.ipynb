{
 "cells": [
  {
   "cell_type": "markdown",
   "id": "f8bf033f",
   "metadata": {},
   "source": [
    "This is a demonstration of an interactive manimation visualizing a definite integral. First, run the block below and select the desired function $f$."
   ]
  },
  {
   "cell_type": "code",
   "execution_count": 3,
   "id": "822b80a4",
   "metadata": {},
   "outputs": [
    {
     "data": {
      "application/vnd.jupyter.widget-view+json": {
       "model_id": "e8efb832ea8c408996bb03377cbd0f82",
       "version_major": 2,
       "version_minor": 0
      },
      "text/plain": [
       "ToggleButtons(button_style='info', description='Select the desired function', options=('sin(x)', 'cos(x)', 'e^…"
      ]
     },
     "metadata": {},
     "output_type": "display_data"
    },
    {
     "data": {
      "application/vnd.jupyter.widget-view+json": {
       "model_id": "174b8e50cc9746fc9c8678599f4a3b92",
       "version_major": 2,
       "version_minor": 0
      },
      "text/plain": [
       "Output()"
      ]
     },
     "metadata": {},
     "output_type": "display_data"
    }
   ],
   "source": [
    "# <-- Run to select f\n",
    "import numpy as np\n",
    "import ipywidgets as widgets\n",
    "from sympy import symbols, sin, cos, exp, latex\n",
    "from IPython.display import display, Math\n",
    "# DO NOT ADJUST ABOVE\n",
    "\n",
    "x = symbols('x')\n",
    "function_map = {\n",
    "    \"sin(x)\": sin(x),\n",
    "    \"cos(x)\": cos(x),\n",
    "    \"e^x\": exp(x),\n",
    "    \"3-x^2\": 3-x**2,\n",
    "    # Add your own!\n",
    "}\n",
    "f_toggle = widgets.ToggleButtons(\n",
    "    options=list(function_map.keys()),\n",
    "    description='Select the desired function',\n",
    "    button_style='info',\n",
    ")\n",
    "output = widgets.Output()\n",
    "\n",
    "def update_display(change):\n",
    "    with output:\n",
    "        output.clear_output()\n",
    "        f = function_map[f_toggle.value]\n",
    "        display(Math(f\"f(x) = {latex(f)}\"))\n",
    "\n",
    "f_toggle.observe(update_display, names='value')\n",
    "display(f_toggle, output)\n",
    "update_display({'new': f_toggle.value})\n"
   ]
  },
  {
   "cell_type": "markdown",
   "id": "6eb5ec7f",
   "metadata": {},
   "source": [
    "Now let's evaluate $\\int_0^b f(x) \\, dx$. Run the block below and use the slider to select $b$ and see the value of $\\int_0^b f(x) \\, dx$. "
   ]
  },
  {
   "cell_type": "code",
   "execution_count": null,
   "id": "8f1b954a",
   "metadata": {},
   "outputs": [
    {
     "data": {
      "text/latex": [
       "$\\displaystyle \\text{Move the slider to select} \\,\\, b \\in [0, 10].$"
      ],
      "text/plain": [
       "<IPython.core.display.Math object>"
      ]
     },
     "metadata": {},
     "output_type": "display_data"
    },
    {
     "data": {
      "application/vnd.jupyter.widget-view+json": {
       "model_id": "16db790309b64d36830d93136293c477",
       "version_major": 2,
       "version_minor": 0
      },
      "text/plain": [
       "interactive(children=(FloatSlider(value=5.0, description='b =', layout=Layout(width='300px'), max=10.0), Outpu…"
      ]
     },
     "metadata": {},
     "output_type": "display_data"
    }
   ],
   "source": [
    "# <-- Run to select b\n",
    "import numpy as np\n",
    "from sympy import integrate, init_printing\n",
    "from ipywidgets import interact, FloatSlider\n",
    "from IPython.display import display, Math\n",
    "init_printing()\n",
    "# DO NOT ADJUST ABOVE\n",
    "\n",
    "b_slider = FloatSlider(\n",
    "    min=0, max=10, step = 0.1, value = 5,\n",
    "    description='b =',\n",
    "    layout={'width': '300px'}\n",
    ")\n",
    "display(Math(r\"\\text{Move the slider to select} \\,\\, b \\in [0, 10].\"))\n",
    "@interact(b=b_slider)\n",
    "def evaluate_integral(b):\n",
    "    f = function_map[f_toggle.value]\n",
    "    result = integrate(f, (x, 0, b)).evalf()\n",
    "    # display(Math(rf\"\\int_0^{{{b:.1f}}} {latex(f)} \\, dx = {result:.2f}\"))"
   ]
  },
  {
   "cell_type": "markdown",
   "id": "0b2bcec0",
   "metadata": {},
   "source": [
    "Next is the block that will render a brief Manimation of the above integral for this choice of $b$."
   ]
  },
  {
   "cell_type": "code",
   "execution_count": null,
   "id": "e2cb6af1",
   "metadata": {},
   "outputs": [],
   "source": [
    "# <-- Run to manimate! (takes up to 20s)\n",
    "from manim import *\n",
    "from manim_util import Integral\n",
    "from sympy import lambdify\n",
    "from scene_util import show_scene\n",
    "\n",
    "config.pixel_height = 720\n",
    "config.pixel_width = 1280\n",
    "config.frame_rate = 30\n",
    "config.verbosity = \"WARNING\"\n",
    "\n",
    "b = b_slider.value\n",
    "f = function_map[f_toggle.value]\n",
    "f_expr = f\n",
    "f_usable = lambdify(x, f, modules=[\"numpy\"])\n",
    "show_scene(Integral, f=f_usable, f_expr=f_expr, b=b)"
   ]
  },
  {
   "cell_type": "markdown",
   "id": "4a73eac6",
   "metadata": {},
   "source": [
    "Concept Questions below:"
   ]
  },
  {
   "cell_type": "markdown",
   "id": "9ada25d1",
   "metadata": {},
   "source": [
    "Q1) What is $\\int_0^{2\\pi} \\sin(x) \\, dx$ close to? (You will need to approximate $2\\pi$ as $6.3$)"
   ]
  },
  {
   "cell_type": "markdown",
   "id": "187a6921",
   "metadata": {},
   "source": [
    "A1) $\\int_0^{2\\pi} \\sin(x) \\, dx \\sim$"
   ]
  },
  {
   "cell_type": "markdown",
   "id": "34100225",
   "metadata": {},
   "source": [
    "Q2) How about for $f(x) = \\cos(x)$?"
   ]
  },
  {
   "cell_type": "markdown",
   "id": "721dfad9",
   "metadata": {},
   "source": [
    "A2) $\\int_0^{2\\pi} \\cos(x) \\, dx \\sim$"
   ]
  },
  {
   "cell_type": "markdown",
   "id": "93549802",
   "metadata": {},
   "source": [
    "Q3) Do you think $\\int_0^b e^x \\, dx$ can also be near this value for any $b$? Why or why not?"
   ]
  },
  {
   "cell_type": "markdown",
   "id": "4e8b432d",
   "metadata": {},
   "source": [
    "Check your intuition below:"
   ]
  },
  {
   "cell_type": "code",
   "execution_count": null,
   "id": "91c2e98e",
   "metadata": {},
   "outputs": [],
   "source": [
    "# <-- Run to evaluate integrals\n",
    "import numpy as np\n",
    "from sympy import integrate, init_printing\n",
    "from ipywidgets import interact, FloatSlider, jslink\n",
    "from IPython.display import display, Math\n",
    "init_printing()\n",
    "# DO NOT ADJUST ABOVE\n",
    "\n",
    "b_slider_2 = FloatSlider(\n",
    "    min=0, max=10, step = 0.1, value = 5,\n",
    "    description='b =',\n",
    "    layout={'width': '300px'}\n",
    ")\n",
    "jslink((b_slider, 'value'), (b_slider_2, 'value'))\n",
    "display(Math(r\"\\text{Move the slider to select} \\,\\, b \\in [0, 10].\"))\n",
    "@interact(b=b_slider_2)\n",
    "def evaluate_integral(b):\n",
    "    f = function_map[f_toggle.value]\n",
    "    result = integrate(f, (x, 0, b)).evalf()\n",
    "    display(Math(rf\"\\int_0^{{{b:.1f}}} {latex(f)} \\, dx = {result:.2f}\"))"
   ]
  }
 ],
 "metadata": {
  "kernelspec": {
   "display_name": "Python 3",
   "language": "python",
   "name": "python3"
  },
  "language_info": {
   "codemirror_mode": {
    "name": "ipython",
    "version": 3
   },
   "file_extension": ".py",
   "mimetype": "text/x-python",
   "name": "python",
   "nbconvert_exporter": "python",
   "pygments_lexer": "ipython3",
   "version": "3.12.8"
  }
 },
 "nbformat": 4,
 "nbformat_minor": 5
}
