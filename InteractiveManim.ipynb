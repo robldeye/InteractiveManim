{
 "cells": [
  {
   "cell_type": "markdown",
   "id": "ff868b47",
   "metadata": {},
   "source": [
    "Date: 07/30/2025\n",
    "Author: Robert DeYeso III\n",
    "<!-- Keywords: Calculus I, Integral>"
   ]
  },
  {
   "cell_type": "markdown",
   "id": "f8bf033f",
   "metadata": {},
   "source": [
    "This is a Jupyter Notebook showcasing interactive Manimations. This first example is a visualization of a definite integral. You will select the following desired parameters, and then generate the manimation!\n",
    "<!-- date|author|kw>"
   ]
  },
  {
   "cell_type": "markdown",
   "id": "a48a0304",
   "metadata": {},
   "source": [
    "# First we must run the block below."
   ]
  },
  {
   "cell_type": "code",
   "execution_count": 1,
   "id": "1b0799df",
   "metadata": {},
   "outputs": [],
   "source": [
    "from manim import * # This grabs everything from manim\n",
    "from manim_util import Integral # This grabs the Integral scene for later use\n",
    "from scene_util import show_scene # This line renders scenes within the notebook\n",
    "from manim import config\n",
    "\n",
    "config.pixel_height = 540\n",
    "config.pixel_width = 960\n",
    "config.frame_rate = 30\n",
    "config.verbosity = \"WARNING\""
   ]
  },
  {
   "cell_type": "markdown",
   "id": "c854b85a",
   "metadata": {},
   "source": [
    "Next select the desired function $f$.  The line involving $b_{\\text{max}}$ sets an upper-bound for possible upper-bounds of integration $b$. That is, we can only select $b \\in [0, b_{\\text{max}}]$."
   ]
  },
  {
   "cell_type": "code",
   "execution_count": 2,
   "id": "822b80a4",
   "metadata": {},
   "outputs": [
    {
     "data": {
      "text/latex": [
       "$\\displaystyle b_{\\text{max}} = 6.28$"
      ],
      "text/plain": [
       "<IPython.core.display.Math object>"
      ]
     },
     "metadata": {},
     "output_type": "display_data"
    },
    {
     "data": {
      "text/latex": [
       "$\\displaystyle f(x) = \\sin{\\left(x \\right)}$"
      ],
      "text/plain": [
       "<IPython.core.display.Math object>"
      ]
     },
     "metadata": {},
     "output_type": "display_data"
    }
   ],
   "source": [
    "import numpy as np\n",
    "from sympy import symbols, latex, sin\n",
    "from IPython.display import display, Math\n",
    "# DO NOT ADJUST ABOVE\n",
    "\n",
    "b_max = 2*np.pi\n",
    "x = symbols('x')\n",
    "f = sin(x)\n",
    "display(Math(f\"b_{{\\\\text{{max}}}} = {b_max:.2f}\"))\n",
    "display(Math(f\"f(x) = {latex(f)}\"))"
   ]
  },
  {
   "cell_type": "markdown",
   "id": "6eb5ec7f",
   "metadata": {},
   "source": [
    "Now let's evaluate $\\int_0^b f(x) \\, dx$ for some $b \\in [0, b_{\\text{max}}]$. Run the following block and use the slider to see different values for the definite integral for different selections for $b$. "
   ]
  },
  {
   "cell_type": "code",
   "execution_count": null,
   "id": "8f1b954a",
   "metadata": {},
   "outputs": [
    {
     "data": {
      "text/latex": [
       "$\\displaystyle \\text{Move the slider to select} \\,\\, b \\in [0, 2\\pi].$"
      ],
      "text/plain": [
       "<IPython.core.display.Math object>"
      ]
     },
     "metadata": {},
     "output_type": "display_data"
    },
    {
     "data": {
      "application/vnd.jupyter.widget-view+json": {
       "model_id": "1c9132c3378e4250931c34209d5663e2",
       "version_major": 2,
       "version_minor": 0
      },
      "text/plain": [
       "interactive(children=(FloatSlider(value=3.0, description='b =', layout=Layout(width='500px'), max=6.2831853071…"
      ]
     },
     "metadata": {},
     "output_type": "display_data"
    }
   ],
   "source": [
    "import numpy as np\n",
    "from sympy import integrate, init_printing\n",
    "from ipywidgets import interact, FloatSlider\n",
    "from IPython.display import display, Math\n",
    "init_printing()\n",
    "# DO NOT ADJUST ABOVE\n",
    "\n",
    "b_slider = FloatSlider(\n",
    "    min=0, max=2*np.pi, step = 0.1, value = 3,\n",
    "    description='b =',\n",
    "    layout={'width': '500px'}\n",
    ")\n",
    "\n",
    "# Interactive slider for upper bound a\n",
    "display(Math(r\"\\text{Move the slider to select} \\,\\, b \\in [0, 2\\pi].\"))\n",
    "@interact(b=b_slider)\n",
    "def evaluate_integral(b):\n",
    "    result = integrate(f, (x, 0, b)).evalf()\n",
    "    display(Math(rf\"\\int_0^{{{b:.1f}}} {latex(f)} \\, dx = {result:.2f}\"))"
   ]
  },
  {
   "cell_type": "markdown",
   "id": "0b2bcec0",
   "metadata": {},
   "source": [
    "Next is the block that will render a brief Manimation of the above integral for this choice of $b$."
   ]
  },
  {
   "cell_type": "code",
   "execution_count": null,
   "id": "e2cb6af1",
   "metadata": {},
   "outputs": [
    {
     "ename": "SympifyError",
     "evalue": "SympifyError: \"cannot sympify object of type <class 'function'>\"",
     "output_type": "error",
     "traceback": [
      "\u001b[31m---------------------------------------------------------------------------\u001b[39m",
      "\u001b[31mSympifyError\u001b[39m                              Traceback (most recent call last)",
      "\u001b[36mCell\u001b[39m\u001b[36m \u001b[39m\u001b[32mIn[5]\u001b[39m\u001b[32m, line 5\u001b[39m\n\u001b[32m      2\u001b[39m \u001b[38;5;28;01mfrom\u001b[39;00m \u001b[34;01mscene_util\u001b[39;00m \u001b[38;5;28;01mimport\u001b[39;00m show_scene\n\u001b[32m      4\u001b[39m b = b_slider.value\n\u001b[32m----> \u001b[39m\u001b[32m5\u001b[39m f = \u001b[43mlambdify\u001b[49m\u001b[43m(\u001b[49m\u001b[43mx\u001b[49m\u001b[43m,\u001b[49m\u001b[43m \u001b[49m\u001b[43mf\u001b[49m\u001b[43m,\u001b[49m\u001b[43m \u001b[49m\u001b[43mmodules\u001b[49m\u001b[43m=\u001b[49m\u001b[43m[\u001b[49m\u001b[33;43m\"\u001b[39;49m\u001b[33;43mnumpy\u001b[39;49m\u001b[33;43m\"\u001b[39;49m\u001b[43m]\u001b[49m\u001b[43m)\u001b[49m\n\u001b[32m      6\u001b[39m show_scene(Integral, f=f, b_max=b_max, b=b)\n",
      "\u001b[36mFile \u001b[39m\u001b[32m~\\AppData\\Roaming\\Python\\Python312\\site-packages\\sympy\\utilities\\lambdify.py:894\u001b[39m, in \u001b[36mlambdify\u001b[39m\u001b[34m(args, expr, modules, printer, use_imps, dummify, cse, docstring_limit)\u001b[39m\n\u001b[32m    892\u001b[39m \u001b[38;5;28;01melse\u001b[39;00m:\n\u001b[32m    893\u001b[39m     cses, _expr = (), expr\n\u001b[32m--> \u001b[39m\u001b[32m894\u001b[39m funcstr = \u001b[43mfuncprinter\u001b[49m\u001b[43m.\u001b[49m\u001b[43mdoprint\u001b[49m\u001b[43m(\u001b[49m\u001b[43mfuncname\u001b[49m\u001b[43m,\u001b[49m\u001b[43m \u001b[49m\u001b[43miterable_args\u001b[49m\u001b[43m,\u001b[49m\u001b[43m \u001b[49m\u001b[43m_expr\u001b[49m\u001b[43m,\u001b[49m\u001b[43m \u001b[49m\u001b[43mcses\u001b[49m\u001b[43m=\u001b[49m\u001b[43mcses\u001b[49m\u001b[43m)\u001b[49m\n\u001b[32m    896\u001b[39m \u001b[38;5;66;03m# Collect the module imports from the code printers.\u001b[39;00m\n\u001b[32m    897\u001b[39m imp_mod_lines = []\n",
      "\u001b[36mFile \u001b[39m\u001b[32m~\\AppData\\Roaming\\Python\\Python312\\site-packages\\sympy\\utilities\\lambdify.py:1201\u001b[39m, in \u001b[36m_EvaluatorPrinter.doprint\u001b[39m\u001b[34m(self, funcname, args, expr, cses)\u001b[39m\n\u001b[32m   1198\u001b[39m \u001b[38;5;28;01mfor\u001b[39;00m lhs, rhs \u001b[38;5;129;01min\u001b[39;00m subs_assignments:\n\u001b[32m   1199\u001b[39m     funcbody.append(\u001b[33m'\u001b[39m\u001b[38;5;132;01m{}\u001b[39;00m\u001b[33m = \u001b[39m\u001b[38;5;132;01m{}\u001b[39;00m\u001b[33m'\u001b[39m.format(\u001b[38;5;28mself\u001b[39m._exprrepr(lhs), \u001b[38;5;28mself\u001b[39m._exprrepr(rhs)))\n\u001b[32m-> \u001b[39m\u001b[32m1201\u001b[39m str_expr = \u001b[43m_recursive_to_string\u001b[49m\u001b[43m(\u001b[49m\u001b[38;5;28;43mself\u001b[39;49m\u001b[43m.\u001b[49m\u001b[43m_exprrepr\u001b[49m\u001b[43m,\u001b[49m\u001b[43m \u001b[49m\u001b[43mexpr\u001b[49m\u001b[43m)\u001b[49m\n\u001b[32m   1203\u001b[39m \u001b[38;5;28;01mif\u001b[39;00m \u001b[33m'\u001b[39m\u001b[38;5;130;01m\\n\u001b[39;00m\u001b[33m'\u001b[39m \u001b[38;5;129;01min\u001b[39;00m str_expr:\n\u001b[32m   1204\u001b[39m     str_expr = \u001b[33m'\u001b[39m\u001b[33m(\u001b[39m\u001b[38;5;132;01m{}\u001b[39;00m\u001b[33m)\u001b[39m\u001b[33m'\u001b[39m.format(str_expr)\n",
      "\u001b[36mFile \u001b[39m\u001b[32m~\\AppData\\Roaming\\Python\\Python312\\site-packages\\sympy\\utilities\\lambdify.py:1003\u001b[39m, in \u001b[36m_recursive_to_string\u001b[39m\u001b[34m(doprint, arg)\u001b[39m\n\u001b[32m   1001\u001b[39m     \u001b[38;5;28;01mreturn\u001b[39;00m arg\n\u001b[32m   1002\u001b[39m \u001b[38;5;28;01melse\u001b[39;00m:\n\u001b[32m-> \u001b[39m\u001b[32m1003\u001b[39m     \u001b[38;5;28;01mreturn\u001b[39;00m \u001b[43mdoprint\u001b[49m\u001b[43m(\u001b[49m\u001b[43marg\u001b[49m\u001b[43m)\u001b[49m\n",
      "\u001b[36mFile \u001b[39m\u001b[32m~\\AppData\\Roaming\\Python\\Python312\\site-packages\\sympy\\printing\\codeprinter.py:162\u001b[39m, in \u001b[36mCodePrinter.doprint\u001b[39m\u001b[34m(self, expr, assign_to)\u001b[39m\n\u001b[32m    159\u001b[39m     \u001b[38;5;28;01mreturn\u001b[39;00m Assignment(assign_to, expr)\n\u001b[32m    161\u001b[39m expr = _convert_python_lists(expr)\n\u001b[32m--> \u001b[39m\u001b[32m162\u001b[39m expr = \u001b[43m_handle_assign_to\u001b[49m\u001b[43m(\u001b[49m\u001b[43mexpr\u001b[49m\u001b[43m,\u001b[49m\u001b[43m \u001b[49m\u001b[43massign_to\u001b[49m\u001b[43m)\u001b[49m\n\u001b[32m    164\u001b[39m \u001b[38;5;66;03m# Remove re(...) nodes due to UnevaluatedExpr.is_real always is None:\u001b[39;00m\n\u001b[32m    165\u001b[39m expr = \u001b[38;5;28mself\u001b[39m._handle_UnevaluatedExpr(expr)\n",
      "\u001b[36mFile \u001b[39m\u001b[32m~\\AppData\\Roaming\\Python\\Python312\\site-packages\\sympy\\printing\\codeprinter.py:146\u001b[39m, in \u001b[36mCodePrinter.doprint.<locals>._handle_assign_to\u001b[39m\u001b[34m(expr, assign_to)\u001b[39m\n\u001b[32m    144\u001b[39m \u001b[38;5;28;01mdef\u001b[39;00m \u001b[34m_handle_assign_to\u001b[39m(expr, assign_to):\n\u001b[32m    145\u001b[39m     \u001b[38;5;28;01mif\u001b[39;00m assign_to \u001b[38;5;129;01mis\u001b[39;00m \u001b[38;5;28;01mNone\u001b[39;00m:\n\u001b[32m--> \u001b[39m\u001b[32m146\u001b[39m         \u001b[38;5;28;01mreturn\u001b[39;00m \u001b[43msympify\u001b[49m\u001b[43m(\u001b[49m\u001b[43mexpr\u001b[49m\u001b[43m)\u001b[49m\n\u001b[32m    147\u001b[39m     \u001b[38;5;28;01mif\u001b[39;00m \u001b[38;5;28misinstance\u001b[39m(assign_to, (\u001b[38;5;28mlist\u001b[39m, \u001b[38;5;28mtuple\u001b[39m)):\n\u001b[32m    148\u001b[39m         \u001b[38;5;28;01mif\u001b[39;00m \u001b[38;5;28mlen\u001b[39m(expr) != \u001b[38;5;28mlen\u001b[39m(assign_to):\n",
      "\u001b[36mFile \u001b[39m\u001b[32m~\\AppData\\Roaming\\Python\\Python312\\site-packages\\sympy\\core\\sympify.py:491\u001b[39m, in \u001b[36msympify\u001b[39m\u001b[34m(a, locals, convert_xor, strict, rational, evaluate)\u001b[39m\n\u001b[32m    488\u001b[39m         \u001b[38;5;28;01mpass\u001b[39;00m\n\u001b[32m    490\u001b[39m \u001b[38;5;28;01mif\u001b[39;00m \u001b[38;5;129;01mnot\u001b[39;00m \u001b[38;5;28misinstance\u001b[39m(a, \u001b[38;5;28mstr\u001b[39m):\n\u001b[32m--> \u001b[39m\u001b[32m491\u001b[39m     \u001b[38;5;28;01mraise\u001b[39;00m SympifyError(\u001b[33m'\u001b[39m\u001b[33mcannot sympify object of type \u001b[39m\u001b[38;5;132;01m%r\u001b[39;00m\u001b[33m'\u001b[39m % \u001b[38;5;28mtype\u001b[39m(a))\n\u001b[32m    493\u001b[39m \u001b[38;5;28;01mfrom\u001b[39;00m \u001b[34;01msympy\u001b[39;00m\u001b[34;01m.\u001b[39;00m\u001b[34;01mparsing\u001b[39;00m\u001b[34;01m.\u001b[39;00m\u001b[34;01msympy_parser\u001b[39;00m \u001b[38;5;28;01mimport\u001b[39;00m (parse_expr, TokenError,\n\u001b[32m    494\u001b[39m                                         standard_transformations)\n\u001b[32m    495\u001b[39m \u001b[38;5;28;01mfrom\u001b[39;00m \u001b[34;01msympy\u001b[39;00m\u001b[34;01m.\u001b[39;00m\u001b[34;01mparsing\u001b[39;00m\u001b[34;01m.\u001b[39;00m\u001b[34;01msympy_parser\u001b[39;00m \u001b[38;5;28;01mimport\u001b[39;00m convert_xor \u001b[38;5;28;01mas\u001b[39;00m t_convert_xor\n",
      "\u001b[31mSympifyError\u001b[39m: SympifyError: \"cannot sympify object of type <class 'function'>\""
     ]
    }
   ],
   "source": [
    "from sympy import lambdify\n",
    "from scene_util import show_scene\n",
    "\n",
    "b = b_slider.value\n",
    "f_usable = lambdify(x, f, modules=[\"numpy\"])\n",
    "show_scene(Integral, f=f_usable, b_max=b_max, b=b)"
   ]
  }
 ],
 "metadata": {
  "kernelspec": {
   "display_name": "Python 3",
   "language": "python",
   "name": "python3"
  },
  "language_info": {
   "codemirror_mode": {
    "name": "ipython",
    "version": 3
   },
   "file_extension": ".py",
   "mimetype": "text/x-python",
   "name": "python",
   "nbconvert_exporter": "python",
   "pygments_lexer": "ipython3",
   "version": "3.12.8"
  }
 },
 "nbformat": 4,
 "nbformat_minor": 5
}
