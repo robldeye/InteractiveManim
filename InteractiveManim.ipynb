{
 "cells": [
  {
   "cell_type": "markdown",
   "id": "ff868b47",
   "metadata": {},
   "source": [
    "Date: 07/30/2025\n",
    "Author: Robert DeYeso III\n",
    "<!-- Keywords: Calculus I, Integral>"
   ]
  },
  {
   "cell_type": "markdown",
   "id": "f8bf033f",
   "metadata": {},
   "source": [
    "This is a Jupyter Notebook showcasing interactive Manimations. This first example is a visualization of a definite integral. You will select the following desired parameters, and then generate the manimation!\n",
    "<!-- date|author|kw>"
   ]
  },
  {
   "cell_type": "markdown",
   "id": "a48a0304",
   "metadata": {},
   "source": [
    "# First we must run the block below."
   ]
  },
  {
   "cell_type": "code",
   "execution_count": null,
   "id": "1b0799df",
   "metadata": {},
   "outputs": [],
   "source": [
    "%load_ext manim # This enables manim cell magic\n",
    "from manim import * # This grabs everything from manim\n",
    "from manim_util import Integral # This grabs the Integral scene for later use"
   ]
  },
  {
   "cell_type": "markdown",
   "id": "c854b85a",
   "metadata": {},
   "source": [
    "Next select the desired function $f$.  The line involving $b_{\\text{max}}$ sets an upper-bound for possible upper-bounds of integration $b$. That is, we can only select $b \\in [0, b_{\\text{max}}]$."
   ]
  },
  {
   "cell_type": "code",
   "execution_count": 1,
   "id": "822b80a4",
   "metadata": {},
   "outputs": [
    {
     "data": {
      "text/latex": [
       "$\\displaystyle b_{\\text{max}} = 6.28$"
      ],
      "text/plain": [
       "<IPython.core.display.Math object>"
      ]
     },
     "metadata": {},
     "output_type": "display_data"
    },
    {
     "data": {
      "text/latex": [
       "$\\displaystyle f(x) = \\sin{\\left(x \\right)}$"
      ],
      "text/plain": [
       "<IPython.core.display.Math object>"
      ]
     },
     "metadata": {},
     "output_type": "display_data"
    }
   ],
   "source": [
    "from manim import *\n",
    "import numpy as np\n",
    "from sympy import symbols, latex, sin\n",
    "from IPython.display import display, Math\n",
    "# DO NOT ADJUST ABOVE\n",
    "\n",
    "b_max = 2*np.pi\n",
    "x = symbols('x')\n",
    "f = sin(x)\n",
    "display(Math(f\"b_{{\\\\text{{max}}}} = {b_max:.2f}\"))\n",
    "display(Math(f\"f(x) = {latex(f)}\"))"
   ]
  },
  {
   "cell_type": "markdown",
   "id": "6eb5ec7f",
   "metadata": {},
   "source": [
    "Now let's evaluate $\\int_0^b f(x) \\, dx$ for some $b \\in [0, b_{\\text{max}}]$. Run the following block and use the slider to see different values for the definite integral for different selections for $b$. "
   ]
  },
  {
   "cell_type": "code",
   "execution_count": null,
   "id": "8f1b954a",
   "metadata": {},
   "outputs": [],
   "source": [
    "import numpy as np\n",
    "from sympy import integrate, init_printing\n",
    "from ipywidgets import interact, FloatSlider\n",
    "from IPython.display import display, Math\n",
    "init_printing()\n",
    "# DO NOT ADJUST ABOVE\n",
    "\n",
    "b_slider = FloatSlider(\n",
    "    min=0, max=2*np.pi, step = 0.1, value = 3,\n",
    "    description='b =',\n",
    "    layout={'width': '500px'}\n",
    ")\n",
    "\n",
    "# Interactive slider for upper bound a\n",
    "display(Math(r\"\\text{Move the slider to select} \\,\\, b \\in [0, 2\\pi].\"))\n",
    "@interact(b=b_slider)\n",
    "def evaluate_integral(b):\n",
    "    result = integrate(f, (x, 0, b)).evalf()\n",
    "    display(Math(rf\"\\int_0^{{{b:.1f}}} {latex(f)} \\, dx = {result:.2f}\"))"
   ]
  },
  {
   "cell_type": "markdown",
   "id": "0b2bcec0",
   "metadata": {},
   "source": [
    "Next is the block that will render a brief Manimation of the above integral for this choice of $b$."
   ]
  },
  {
   "cell_type": "code",
   "execution_count": null,
   "id": "e2cb6af1",
   "metadata": {},
   "outputs": [
    {
     "data": {
      "text/html": [
       "<pre style=\"white-space:pre;overflow-x:auto;line-height:normal;font-family:Menlo,'DejaVu Sans Mono',consolas,'Courier New',monospace\">Manim Community <span style=\"color: #008000; text-decoration-color: #008000\">v0.19.0</span>\n",
       "\n",
       "</pre>\n"
      ],
      "text/plain": [
       "Manim Community \u001b[32mv0.\u001b[0m\u001b[32m19.0\u001b[0m\n",
       "\n"
      ]
     },
     "metadata": {},
     "output_type": "display_data"
    },
    {
     "name": "stderr",
     "output_type": "stream",
     "text": [
      "                                                                     \r"
     ]
    },
    {
     "data": {
      "text/html": [
       "<video src=\"media\\jupyter\\SquareToCircle@2025-07-30@16-51-15.mp4\" controls autoplay loop style=\"max-width: 60%;\"  >\n",
       "      Your browser does not support the <code>video</code> element.\n",
       "    </video>"
      ],
      "text/plain": [
       "<IPython.core.display.Video object>"
      ]
     },
     "metadata": {},
     "output_type": "display_data"
    }
   ],
   "source": [
    "%%manim -qm -v WARNING Integral\n",
    "\n",
    "scene = Integral(f=f, b_max=b_max, b=b)"
   ]
  }
 ],
 "metadata": {
  "kernelspec": {
   "display_name": "Python 3",
   "language": "python",
   "name": "python3"
  },
  "language_info": {
   "codemirror_mode": {
    "name": "ipython",
    "version": 3
   },
   "file_extension": ".py",
   "mimetype": "text/x-python",
   "name": "python",
   "nbconvert_exporter": "python",
   "pygments_lexer": "ipython3",
   "version": "3.12.8"
  }
 },
 "nbformat": 4,
 "nbformat_minor": 5
}
