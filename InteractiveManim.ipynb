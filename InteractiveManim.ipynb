{
 "cells": [
  {
   "cell_type": "markdown",
   "id": "f8bf033f",
   "metadata": {},
   "source": [
    "This is a Jupyter Notebook showcasing interactive Manimations. This first example is a visualization of a definite integral. You will select the following desired parameters, and then generate the manimation!"
   ]
  },
  {
   "cell_type": "markdown",
   "id": "c854b85a",
   "metadata": {},
   "source": [
    "First, select the desired function $f$.  The line involving $b_{\\text{max}}$ sets an upper-bound for possible upper-bounds of integration $b$. That is, we can only select $b \\in [0, b_{\\text{max}}]$."
   ]
  },
  {
   "cell_type": "code",
   "execution_count": 23,
   "id": "822b80a4",
   "metadata": {},
   "outputs": [
    {
     "data": {
      "text/latex": [
       "$\\displaystyle b_{\\text{max}} = 6.28$"
      ],
      "text/plain": [
       "<IPython.core.display.Math object>"
      ]
     },
     "metadata": {},
     "output_type": "display_data"
    },
    {
     "data": {
      "text/latex": [
       "$\\displaystyle f(x) = \\sin{\\left(x \\right)}$"
      ],
      "text/plain": [
       "<IPython.core.display.Math object>"
      ]
     },
     "metadata": {},
     "output_type": "display_data"
    }
   ],
   "source": [
    "import numpy as np\n",
    "from sympy import symbols, latex, sin\n",
    "from IPython.display import display, Math\n",
    "# DO NOT ADJUST ABOVE\n",
    "\n",
    "b_max = 2*np.pi\n",
    "x = symbols('x')\n",
    "f = sin(x)\n",
    "display(Math(f\"b_{{\\\\text{{max}}}} = {b_max:.2f}\"))\n",
    "display(Math(f\"f(x) = {latex(f)}\"))"
   ]
  },
  {
   "cell_type": "markdown",
   "id": "6eb5ec7f",
   "metadata": {},
   "source": [
    "Next let's evaluate $\\int_0^b f(x) \\, dx$ for some $b \\in [0, b_{\\text{max}}]$. Run the following block and use the slider to see different values for the definite integral for different selections for $b$. "
   ]
  },
  {
   "cell_type": "code",
   "execution_count": null,
   "id": "8f1b954a",
   "metadata": {},
   "outputs": [
    {
     "data": {
      "text/latex": [
       "$\\displaystyle \\text{Move the slider to select} \\,\\, b \\in [0, 2\\pi].$"
      ],
      "text/plain": [
       "<IPython.core.display.Math object>"
      ]
     },
     "metadata": {},
     "output_type": "display_data"
    },
    {
     "data": {
      "application/vnd.jupyter.widget-view+json": {
       "model_id": "73897da6316a46c8af5f09cc92706e51",
       "version_major": 2,
       "version_minor": 0
      },
      "text/plain": [
       "interactive(children=(FloatSlider(value=3.0, description='b =', layout=Layout(width='500px'), max=6.2831853071…"
      ]
     },
     "metadata": {},
     "output_type": "display_data"
    }
   ],
   "source": [
    "import numpy as np\n",
    "from sympy import integrate, init_printing\n",
    "from ipywidgets import interact, FloatSlider\n",
    "from IPython.display import display, Math\n",
    "init_printing()\n",
    "# DO NOT ADJUST ABOVE\n",
    "\n",
    "b_slider = FloatSlider(\n",
    "    min=0, max=2*np.pi, step = 0.1, value = 3,\n",
    "    description='b =',\n",
    "    layout={'width': '500px'}\n",
    ")\n",
    "\n",
    "# Interactive slider for upper bound a\n",
    "display(Math(r\"\\text{Move the slider to select} \\,\\, b \\in [0, 2\\pi].\"))\n",
    "@interact(b=b_slider)\n",
    "def evaluate_integral(b):\n",
    "    result = integrate(f, (x, 0, b)).evalf()\n",
    "    display(Math(rf\"\\int_0^{{{b:.1f}}} {latex(f)} \\, dx = {result:.2f}\"))\n",
    "\n"
   ]
  },
  {
   "cell_type": "markdown",
   "id": "0b2bcec0",
   "metadata": {},
   "source": [
    "Next is the block that will render a brief Manimation of the above integral for this choice of "
   ]
  },
  {
   "cell_type": "code",
   "execution_count": null,
   "id": "feec71e6",
   "metadata": {},
   "outputs": [],
   "source": [
    "from manim_util import Integral\n",
    "%%manim -qm -v WARNING Integral\n",
    "\n",
    "scene = Integral(func=f, b_max=b_max, b=b)\n",
    "scene.render()"
   ]
  }
 ],
 "metadata": {
  "kernelspec": {
   "display_name": "Python 3",
   "language": "python",
   "name": "python3"
  },
  "language_info": {
   "codemirror_mode": {
    "name": "ipython",
    "version": 3
   },
   "file_extension": ".py",
   "mimetype": "text/x-python",
   "name": "python",
   "nbconvert_exporter": "python",
   "pygments_lexer": "ipython3",
   "version": "3.12.8"
  }
 },
 "nbformat": 4,
 "nbformat_minor": 5
}
