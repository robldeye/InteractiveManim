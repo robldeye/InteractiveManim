{
 "cells": [
  {
   "cell_type": "code",
   "execution_count": null,
   "id": "7e383ddb",
   "metadata": {},
   "outputs": [],
   "source": [
    "from manim_util import Integral\n",
    "%%manim -qm -v WARNING Integral\n",
    "\n",
    "scene = Integral(func=f, b_max=b_max, b=b)\n",
    "scene.render()"
   ]
  }
 ],
 "metadata": {
  "language_info": {
   "name": "python"
  }
 },
 "nbformat": 4,
 "nbformat_minor": 5
}
