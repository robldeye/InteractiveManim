{
 "cells": [
  {
   "cell_type": "markdown",
   "id": "32bb9cd3",
   "metadata": {},
   "source": [
    "This is an area to test things :smile:"
   ]
  },
  {
   "cell_type": "code",
   "execution_count": null,
   "id": "b5f7683c",
   "metadata": {},
   "outputs": [],
   "source": [
    "import numpy as np\n",
    "import ipywidgets as widgets\n",
    "from sympy import symbols, sin, cos, exp, log, Piecewise, latex\n",
    "from IPython.display import display, Math\n",
    "\n",
    "x = symbols('x')\n",
    "Piecewise(\n",
    "        (x**2, x <= 0),\n",
    "        (sin(x), (x > 0) & (x <= 2)),\n",
    "        (log(x), x > 2)\n",
    "    )\n",
    "display(Math(f\"f(x) = {latex(Piecewise)}\"))"
   ]
  }
 ],
 "metadata": {
  "kernelspec": {
   "display_name": "Python 3",
   "language": "python",
   "name": "python3"
  },
  "language_info": {
   "name": "python",
   "version": "3.12.8"
  }
 },
 "nbformat": 4,
 "nbformat_minor": 5
}
